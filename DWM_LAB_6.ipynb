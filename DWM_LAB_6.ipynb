{
  "nbformat": 4,
  "nbformat_minor": 0,
  "metadata": {
    "colab": {
      "provenance": []
    },
    "kernelspec": {
      "name": "python3",
      "display_name": "Python 3"
    },
    "language_info": {
      "name": "python"
    }
  },
  "cells": [
    {
      "cell_type": "code",
      "source": [
        "import pandas as pd"
      ],
      "metadata": {
        "id": "nGWnoDshbj0O"
      },
      "execution_count": null,
      "outputs": []
    },
    {
      "cell_type": "code",
      "execution_count": null,
      "metadata": {
        "id": "Lu75wXv9aySl"
      },
      "outputs": [],
      "source": [
        "data={\n",
        "\n",
        "      'ID': [1,2,3,4,5,6],\n",
        "      'Name': ['Shreyas','Deepak','Himanshu','Aditya','Rohit','Ameen'],\n",
        "      'Age' : [25,30,35,40,45,21],\n",
        "      'Country' : ['Maharashtra','Tamil Nadu','Kerala','Goa','Uttar Pradesh','Madhya Pradesh'],\n",
        "      'Sales': [200,450,300,800,150,400]\n",
        "\n",
        "}"
      ]
    },
    {
      "cell_type": "code",
      "source": [
        "df=pd.DataFrame(data)\n",
        "\n",
        "print(\"Orginal Dataset\")\n",
        "print(df)"
      ],
      "metadata": {
        "colab": {
          "base_uri": "https://localhost:8080/"
        },
        "id": "oT3gpyhucQ-2",
        "outputId": "1afaf3c9-b3f0-4bd7-b9f3-efbbb972097b"
      },
      "execution_count": null,
      "outputs": [
        {
          "output_type": "stream",
          "name": "stdout",
          "text": [
            "Orginal Dataset\n",
            "   ID      Name  Age         Country  Sales\n",
            "0   1   Shreyas   25     Maharashtra    200\n",
            "1   2    Deepak   30      Tamil Nadu    450\n",
            "2   3  Himanshu   35          Kerala    300\n",
            "3   4    Aditya   40             Goa    800\n",
            "4   5     Rohit   45   Uttar Pradesh    150\n",
            "5   6     Ameen   21  Madhya Pradesh    400\n"
          ]
        }
      ]
    },
    {
      "cell_type": "code",
      "source": [
        "df['Name_Upper']=df['Name'].str.upper()\n",
        "\n",
        "print(\"Dataset after adding new column\")\n",
        "print(df[['ID','Name','Name_Upper']])"
      ],
      "metadata": {
        "colab": {
          "base_uri": "https://localhost:8080/"
        },
        "id": "cMpb2JMvceUC",
        "outputId": "20a42fcb-edca-4f1e-95ec-2cfd61c0745f"
      },
      "execution_count": null,
      "outputs": [
        {
          "output_type": "stream",
          "name": "stdout",
          "text": [
            "Dataset after adding new column\n",
            "   ID      Name Name_Upper\n",
            "0   1   Shreyas    SHREYAS\n",
            "1   2    Deepak     DEEPAK\n",
            "2   3  Himanshu   HIMANSHU\n",
            "3   4    Aditya     ADITYA\n",
            "4   5     Rohit      ROHIT\n",
            "5   6     Ameen      AMEEN\n"
          ]
        }
      ]
    },
    {
      "cell_type": "code",
      "source": [
        "df_copy1=df.copy()\n",
        "df_copy2=df.copy()\n",
        "\n",
        "df_copy1['Sales'] *= 1.1\n",
        "df_copy2['Age'] += 5\n",
        "\n",
        "print(\"\\nMulticast (Modified Copies):\")\n",
        "print(\"Copy 1 (Sales Increased):\")\n",
        "print(df_copy1)\n",
        "print(\"\\nCopy 2 (Age Increased):\")\n",
        "print(df_copy2)"
      ],
      "metadata": {
        "colab": {
          "base_uri": "https://localhost:8080/"
        },
        "id": "tMvcC4rVdZVU",
        "outputId": "8b4d9a9e-04ad-41df-d15b-869d5ce4d8d3"
      },
      "execution_count": null,
      "outputs": [
        {
          "output_type": "stream",
          "name": "stdout",
          "text": [
            "\n",
            "Multicast (Modified Copies):\n",
            "Copy 1 (Sales Increased):\n",
            "   ID      Name  Age         Country  Sales Name_Upper\n",
            "0   1   Shreyas   25     Maharashtra  220.0    SHREYAS\n",
            "1   2    Deepak   30      Tamil Nadu  495.0     DEEPAK\n",
            "2   3  Himanshu   35          Kerala  330.0   HIMANSHU\n",
            "3   4    Aditya   40             Goa  880.0     ADITYA\n",
            "4   5     Rohit   45   Uttar Pradesh  165.0      ROHIT\n",
            "5   6     Ameen   21  Madhya Pradesh  440.0      AMEEN\n",
            "\n",
            "Copy 2 (Age Increased):\n",
            "   ID      Name  Age         Country  Sales Name_Upper\n",
            "0   1   Shreyas   30     Maharashtra    200    SHREYAS\n",
            "1   2    Deepak   35      Tamil Nadu    450     DEEPAK\n",
            "2   3  Himanshu   40          Kerala    300   HIMANSHU\n",
            "3   4    Aditya   45             Goa    800     ADITYA\n",
            "4   5     Rohit   50   Uttar Pradesh    150      ROHIT\n",
            "5   6     Ameen   26  Madhya Pradesh    400      AMEEN\n"
          ]
        }
      ]
    },
    {
      "cell_type": "code",
      "source": [
        "high_sales=df[df['Sales']>300]\n",
        "low_sales=df[df['Sales']<=300]\n",
        "print(\"\\nConditional Split:\")\n",
        "print(\"High Sales:\")\n",
        "print(high_sales)\n",
        "print(\"\\nLow Sales:\")\n",
        "print(low_sales)"
      ],
      "metadata": {
        "colab": {
          "base_uri": "https://localhost:8080/"
        },
        "id": "NqX3vYK6fXG6",
        "outputId": "e1ad973e-cdbb-4b47-b05a-2c9c19f1ecf4"
      },
      "execution_count": null,
      "outputs": [
        {
          "output_type": "stream",
          "name": "stdout",
          "text": [
            "\n",
            "Conditional Split:\n",
            "High Sales:\n",
            "   ID    Name  Age         Country  Sales Name_Upper\n",
            "1   2  Deepak   30      Tamil Nadu    450     DEEPAK\n",
            "3   4  Aditya   40             Goa    800     ADITYA\n",
            "5   6   Ameen   21  Madhya Pradesh    400      AMEEN\n",
            "\n",
            "Low Sales:\n",
            "   ID      Name  Age        Country  Sales Name_Upper\n",
            "0   1   Shreyas   25    Maharashtra    200    SHREYAS\n",
            "2   3  Himanshu   35         Kerala    300   HIMANSHU\n",
            "4   5     Rohit   45  Uttar Pradesh    150      ROHIT\n"
          ]
        }
      ]
    },
    {
      "cell_type": "code",
      "source": [
        "agg_df=df.groupby('Country')['Sales'].sum().reset_index()\n",
        "print(\"\\nAggregation:\")\n",
        "print(agg_df)"
      ],
      "metadata": {
        "colab": {
          "base_uri": "https://localhost:8080/"
        },
        "id": "lNTFgCA0hIW2",
        "outputId": "25517f69-69da-4031-dfe4-fb9f9a44b01d"
      },
      "execution_count": null,
      "outputs": [
        {
          "output_type": "stream",
          "name": "stdout",
          "text": [
            "\n",
            "Aggregation:\n",
            "          Country  Sales\n",
            "0             Goa    800\n",
            "1          Kerala    300\n",
            "2  Madhya Pradesh    400\n",
            "3     Maharashtra    200\n",
            "4      Tamil Nadu    450\n",
            "5   Uttar Pradesh    150\n"
          ]
        }
      ]
    },
    {
      "cell_type": "code",
      "source": [
        "sorted_df=df.sort_values(by='Sales',ascending=False)\n",
        "print(\"\\nSorted Data:\")\n",
        "print(sorted_df)"
      ],
      "metadata": {
        "colab": {
          "base_uri": "https://localhost:8080/"
        },
        "id": "zO8OV6EhmDHO",
        "outputId": "cc7dd2ea-9c5d-4194-e31f-0a28c17340f4"
      },
      "execution_count": null,
      "outputs": [
        {
          "output_type": "stream",
          "name": "stdout",
          "text": [
            "\n",
            "Sorted Data:\n",
            "   ID      Name  Age         Country  Sales Name_Upper\n",
            "3   4    Aditya   40             Goa    800     ADITYA\n",
            "1   2    Deepak   30      Tamil Nadu    450     DEEPAK\n",
            "5   6     Ameen   21  Madhya Pradesh    400      AMEEN\n",
            "2   3  Himanshu   35          Kerala    300   HIMANSHU\n",
            "0   1   Shreyas   25     Maharashtra    200    SHREYAS\n",
            "4   5     Rohit   45   Uttar Pradesh    150      ROHIT\n"
          ]
        }
      ]
    },
    {
      "cell_type": "code",
      "source": [
        "df['Sales_Category']=df['Sales'].apply(lambda x: 'High' if x>300 else 'Low')\n",
        "print(\"\\nDerived Column (Sales Category):\")\n",
        "print(df[['ID','Name','Sales','Sales_Category']])"
      ],
      "metadata": {
        "colab": {
          "base_uri": "https://localhost:8080/"
        },
        "id": "UNX96Knon9yG",
        "outputId": "39374d5d-7862-4173-b706-c482588bbff1"
      },
      "execution_count": null,
      "outputs": [
        {
          "output_type": "stream",
          "name": "stdout",
          "text": [
            "\n",
            "Derived Column (Sales Category):\n",
            "   ID      Name  Sales Sales_Category\n",
            "0   1   Shreyas    200            Low\n",
            "1   2    Deepak    450           High\n",
            "2   3  Himanshu    300            Low\n",
            "3   4    Aditya    800           High\n",
            "4   5     Rohit    150            Low\n",
            "5   6     Ameen    400           High\n"
          ]
        }
      ]
    }
  ]
}